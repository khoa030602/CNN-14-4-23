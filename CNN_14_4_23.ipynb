{
  "nbformat": 4,
  "nbformat_minor": 0,
  "metadata": {
    "colab": {
      "provenance": [],
      "authorship_tag": "ABX9TyN/EH8uhreLUdGk+S7RWGU7",
      "include_colab_link": true
    },
    "kernelspec": {
      "name": "python3",
      "display_name": "Python 3"
    },
    "language_info": {
      "name": "python"
    }
  },
  "cells": [
    {
      "cell_type": "markdown",
      "metadata": {
        "id": "view-in-github",
        "colab_type": "text"
      },
      "source": [
        "<a href=\"https://colab.research.google.com/github/khoa030602/CNN-14-4-23/blob/main/CNN_14_4_23.ipynb\" target=\"_parent\"><img src=\"https://colab.research.google.com/assets/colab-badge.svg\" alt=\"Open In Colab\"/></a>"
      ]
    },
    {
      "cell_type": "code",
      "execution_count": null,
      "metadata": {
        "id": "VVSGmAJcO3Hz"
      },
      "outputs": [],
      "source": [
        "from keras.datasets import fashion_mnist\n",
        "import matplotlib.pyplot as plt\n"
      ]
    },
    {
      "cell_type": "code",
      "source": [
        "(train_X, train_Y),(test_X, test_Y) = fashion_mnist.load_data()"
      ],
      "metadata": {
        "id": "IYwPg0ibO_AC"
      },
      "execution_count": null,
      "outputs": []
    },
    {
      "cell_type": "code",
      "source": [
        "train_X = train_X.reshape(60000, 28 ,28, 1)"
      ],
      "metadata": {
        "id": "MXxAquGnPOUT"
      },
      "execution_count": null,
      "outputs": []
    },
    {
      "cell_type": "code",
      "source": [
        "train_X.shape"
      ],
      "metadata": {
        "colab": {
          "base_uri": "https://localhost:8080/"
        },
        "id": "QeT2ogKRPUVJ",
        "outputId": "28686bda-b830-4979-bee6-a049de43da3d"
      },
      "execution_count": null,
      "outputs": [
        {
          "output_type": "execute_result",
          "data": {
            "text/plain": [
              "(60000, 28, 28, 1)"
            ]
          },
          "metadata": {},
          "execution_count": 26
        }
      ]
    },
    {
      "cell_type": "code",
      "source": [
        "test_X.shape"
      ],
      "metadata": {
        "colab": {
          "base_uri": "https://localhost:8080/"
        },
        "id": "kdHsXwA0PWnJ",
        "outputId": "ab3023af-32d1-4d44-e615-3d39651f99e1"
      },
      "execution_count": null,
      "outputs": [
        {
          "output_type": "execute_result",
          "data": {
            "text/plain": [
              "(10000, 28, 28)"
            ]
          },
          "metadata": {},
          "execution_count": 27
        }
      ]
    },
    {
      "cell_type": "code",
      "source": [
        "test_Y.shape\n",
        "train_Y.shape"
      ],
      "metadata": {
        "colab": {
          "base_uri": "https://localhost:8080/"
        },
        "id": "sxblIb4OPYKf",
        "outputId": "6a1f5e2d-9a85-4af0-e8bc-e6a5b5fc13a9"
      },
      "execution_count": null,
      "outputs": [
        {
          "output_type": "execute_result",
          "data": {
            "text/plain": [
              "(60000,)"
            ]
          },
          "metadata": {},
          "execution_count": 28
        }
      ]
    },
    {
      "cell_type": "code",
      "source": [
        "from keras.utils import to_categorical\n",
        "train_Y = to_categorical(train_Y)\n",
        "test_Y = to_categorical(test_Y)\n",
        "\n",
        "test_Y.shape\n",
        "train_Y.shape\n"
      ],
      "metadata": {
        "colab": {
          "base_uri": "https://localhost:8080/"
        },
        "id": "y173CSV-PaVv",
        "outputId": "5ab5ab61-701b-46be-f05c-688e1e5f4d4a"
      },
      "execution_count": null,
      "outputs": [
        {
          "output_type": "execute_result",
          "data": {
            "text/plain": [
              "(60000, 10)"
            ]
          },
          "metadata": {},
          "execution_count": 29
        }
      ]
    },
    {
      "cell_type": "code",
      "source": [
        "from keras.models import Sequential\n",
        "from keras.layers import Dense, Dropout, Flatten, Conv2D, MaxPooling2D, Normalization, LeakyReLU\n",
        "from keras.optimizers import Adam\n",
        "from keras import losses\n",
        "\n",
        "\n",
        "batch_size = 64\n",
        "epochs = 20\n",
        "classes = 10\n",
        "loss = losses"
      ],
      "metadata": {
        "id": "sKg3mcKVPchY"
      },
      "execution_count": null,
      "outputs": []
    },
    {
      "cell_type": "code",
      "source": [
        "model = Sequential()\n",
        "model.add(Conv2D(32, kernel_size = (3, 3), activation = 'linear', input_shape = (28, 28, 1), padding = 'same')) #32 lần tích chập , kernel size 3x3\n",
        "model.add(LeakyReLU(alpha = 0.1)) #1 dạng của bộ lọc\n",
        "model.add(MaxPooling2D((2, 2), padding = 'same')) \n",
        "\n",
        "model.add(Conv2D(64, (3, 3), activation = 'linear', padding = 'same'))\n",
        "model.add(LeakyReLU(alpha = 0.1))\n",
        "model.add(MaxPooling2D((2,2), padding = 'same'))\n",
        "\n",
        "model.add(Conv2D(128, (3, 3), activation = 'linear', padding = 'same'))\n",
        "model.add(LeakyReLU(alpha = 0.1))\n",
        "model.add(MaxPooling2D((2,2), padding = 'same'))\n"
      ],
      "metadata": {
        "id": "dR2g-HfAPgop"
      },
      "execution_count": null,
      "outputs": []
    },
    {
      "cell_type": "code",
      "source": [
        "model.add(Flatten()) #chuyển ảnh thành vecto thông qua mạng ANN\n",
        "model.add(Dense(128,activation='linear')) #128 phân lớp ẩn\n",
        "model.add(LeakyReLU(alpha = 0.1))\n",
        "model.add(Dense(classes, activation = 'softmax')) #classes = 10\n",
        "model.summary()"
      ],
      "metadata": {
        "colab": {
          "base_uri": "https://localhost:8080/"
        },
        "id": "2_eR4x0cPmx_",
        "outputId": "b49bc00c-5c5f-4399-e781-485f958c49ed"
      },
      "execution_count": null,
      "outputs": [
        {
          "output_type": "stream",
          "name": "stdout",
          "text": [
            "Model: \"sequential_2\"\n",
            "_________________________________________________________________\n",
            " Layer (type)                Output Shape              Param #   \n",
            "=================================================================\n",
            " conv2d_7 (Conv2D)           (None, 28, 28, 32)        320       \n",
            "                                                                 \n",
            " leaky_re_lu_4 (LeakyReLU)   (None, 28, 28, 32)        0         \n",
            "                                                                 \n",
            " max_pooling2d_5 (MaxPooling  (None, 14, 14, 32)       0         \n",
            " 2D)                                                             \n",
            "                                                                 \n",
            " conv2d_8 (Conv2D)           (None, 14, 14, 64)        18496     \n",
            "                                                                 \n",
            " leaky_re_lu_5 (LeakyReLU)   (None, 14, 14, 64)        0         \n",
            "                                                                 \n",
            " max_pooling2d_6 (MaxPooling  (None, 7, 7, 64)         0         \n",
            " 2D)                                                             \n",
            "                                                                 \n",
            " conv2d_9 (Conv2D)           (None, 7, 7, 128)         73856     \n",
            "                                                                 \n",
            " leaky_re_lu_6 (LeakyReLU)   (None, 7, 7, 128)         0         \n",
            "                                                                 \n",
            " max_pooling2d_7 (MaxPooling  (None, 4, 4, 128)        0         \n",
            " 2D)                                                             \n",
            "                                                                 \n",
            " flatten_2 (Flatten)         (None, 2048)              0         \n",
            "                                                                 \n",
            " dense_4 (Dense)             (None, 128)               262272    \n",
            "                                                                 \n",
            " leaky_re_lu_7 (LeakyReLU)   (None, 128)               0         \n",
            "                                                                 \n",
            " dense_5 (Dense)             (None, 10)                1290      \n",
            "                                                                 \n",
            "=================================================================\n",
            "Total params: 356,234\n",
            "Trainable params: 356,234\n",
            "Non-trainable params: 0\n",
            "_________________________________________________________________\n"
          ]
        }
      ]
    },
    {
      "cell_type": "code",
      "source": [
        "from keras import optimizers\n",
        "model.compile(loss = loss.categorical_crossentropy, optimizer = \"adam\", metrics = ['accuracy'])\n",
        "model.summary()"
      ],
      "metadata": {
        "colab": {
          "base_uri": "https://localhost:8080/"
        },
        "id": "NIEedgPFPsRv",
        "outputId": "7125164a-db76-4652-c9b7-9b6ce0ab24a0"
      },
      "execution_count": null,
      "outputs": [
        {
          "output_type": "stream",
          "name": "stdout",
          "text": [
            "Model: \"sequential_2\"\n",
            "_________________________________________________________________\n",
            " Layer (type)                Output Shape              Param #   \n",
            "=================================================================\n",
            " conv2d_7 (Conv2D)           (None, 28, 28, 32)        320       \n",
            "                                                                 \n",
            " leaky_re_lu_4 (LeakyReLU)   (None, 28, 28, 32)        0         \n",
            "                                                                 \n",
            " max_pooling2d_5 (MaxPooling  (None, 14, 14, 32)       0         \n",
            " 2D)                                                             \n",
            "                                                                 \n",
            " conv2d_8 (Conv2D)           (None, 14, 14, 64)        18496     \n",
            "                                                                 \n",
            " leaky_re_lu_5 (LeakyReLU)   (None, 14, 14, 64)        0         \n",
            "                                                                 \n",
            " max_pooling2d_6 (MaxPooling  (None, 7, 7, 64)         0         \n",
            " 2D)                                                             \n",
            "                                                                 \n",
            " conv2d_9 (Conv2D)           (None, 7, 7, 128)         73856     \n",
            "                                                                 \n",
            " leaky_re_lu_6 (LeakyReLU)   (None, 7, 7, 128)         0         \n",
            "                                                                 \n",
            " max_pooling2d_7 (MaxPooling  (None, 4, 4, 128)        0         \n",
            " 2D)                                                             \n",
            "                                                                 \n",
            " flatten_2 (Flatten)         (None, 2048)              0         \n",
            "                                                                 \n",
            " dense_4 (Dense)             (None, 128)               262272    \n",
            "                                                                 \n",
            " leaky_re_lu_7 (LeakyReLU)   (None, 128)               0         \n",
            "                                                                 \n",
            " dense_5 (Dense)             (None, 10)                1290      \n",
            "                                                                 \n",
            "=================================================================\n",
            "Total params: 356,234\n",
            "Trainable params: 356,234\n",
            "Non-trainable params: 0\n",
            "_________________________________________________________________\n"
          ]
        }
      ]
    },
    {
      "cell_type": "code",
      "source": [
        "model.save"
      ],
      "metadata": {
        "colab": {
          "base_uri": "https://localhost:8080/"
        },
        "id": "GwIYKqIzPwzl",
        "outputId": "029db97d-94ba-4016-fc2e-e86b79455222"
      },
      "execution_count": null,
      "outputs": [
        {
          "output_type": "execute_result",
          "data": {
            "text/plain": [
              "<bound method Model.save of <keras.engine.sequential.Sequential object at 0x7f25fba91eb0>>"
            ]
          },
          "metadata": {},
          "execution_count": 34
        }
      ]
    },
    {
      "cell_type": "code",
      "source": [
        "train = model.fit(train_X, train_Y, batch_size = batch_size, epochs = epochs, verbose = 1)"
      ],
      "metadata": {
        "colab": {
          "base_uri": "https://localhost:8080/"
        },
        "id": "0YVmhDhLP0do",
        "outputId": "64a80638-1567-4947-bb35-df03d7dba03b"
      },
      "execution_count": null,
      "outputs": [
        {
          "output_type": "stream",
          "name": "stdout",
          "text": [
            "Epoch 1/20\n",
            "938/938 [==============================] - 127s 133ms/step - loss: 0.7413 - accuracy: 0.8345\n",
            "Epoch 2/20\n",
            "938/938 [==============================] - 123s 131ms/step - loss: 0.2949 - accuracy: 0.8926\n",
            "Epoch 3/20\n",
            "938/938 [==============================] - 129s 137ms/step - loss: 0.2526 - accuracy: 0.9071\n",
            "Epoch 4/20\n",
            "938/938 [==============================] - 125s 133ms/step - loss: 0.2292 - accuracy: 0.9151\n",
            "Epoch 5/20\n",
            "938/938 [==============================] - 127s 135ms/step - loss: 0.2102 - accuracy: 0.9221\n",
            "Epoch 6/20\n",
            "938/938 [==============================] - 123s 131ms/step - loss: 0.1937 - accuracy: 0.9272\n",
            "Epoch 7/20\n",
            "938/938 [==============================] - 125s 134ms/step - loss: 0.1800 - accuracy: 0.9330\n",
            "Epoch 8/20\n",
            "938/938 [==============================] - 125s 134ms/step - loss: 0.1728 - accuracy: 0.9359\n",
            "Epoch 9/20\n",
            "938/938 [==============================] - 126s 135ms/step - loss: 0.1590 - accuracy: 0.9410\n",
            "Epoch 10/20\n",
            "938/938 [==============================] - 127s 136ms/step - loss: 0.1480 - accuracy: 0.9448\n",
            "Epoch 11/20\n",
            "938/938 [==============================] - 127s 135ms/step - loss: 0.1410 - accuracy: 0.9469\n",
            "Epoch 12/20\n",
            "938/938 [==============================] - 125s 134ms/step - loss: 0.1294 - accuracy: 0.9521\n",
            "Epoch 13/20\n",
            "938/938 [==============================] - 124s 132ms/step - loss: 0.1202 - accuracy: 0.9555\n",
            "Epoch 14/20\n",
            "938/938 [==============================] - 124s 132ms/step - loss: 0.1117 - accuracy: 0.9595\n",
            "Epoch 15/20\n",
            "938/938 [==============================] - 126s 135ms/step - loss: 0.1075 - accuracy: 0.9609\n",
            "Epoch 16/20\n",
            "938/938 [==============================] - 126s 135ms/step - loss: 0.1013 - accuracy: 0.9629\n",
            "Epoch 17/20\n",
            "938/938 [==============================] - 125s 133ms/step - loss: 0.0979 - accuracy: 0.9646\n",
            "Epoch 18/20\n",
            "938/938 [==============================] - 126s 134ms/step - loss: 0.0930 - accuracy: 0.9663\n",
            "Epoch 19/20\n",
            "938/938 [==============================] - 127s 135ms/step - loss: 0.0907 - accuracy: 0.9682\n",
            "Epoch 20/20\n",
            "938/938 [==============================] - 127s 135ms/step - loss: 0.0840 - accuracy: 0.9693\n"
          ]
        }
      ]
    },
    {
      "cell_type": "code",
      "source": [
        "eval = model.evaluate(test_X, test_Y, verbose = 0)  #verbose = 0: khong hien thi train\n",
        "print('Test loss: ', eval[0])\n",
        "print('Test accuracy: ', eval[1])"
      ],
      "metadata": {
        "colab": {
          "base_uri": "https://localhost:8080/"
        },
        "id": "wmKCzRWoP4cJ",
        "outputId": "961c8b87-dd97-4eb9-ad2a-8594198360ae"
      },
      "execution_count": null,
      "outputs": [
        {
          "output_type": "stream",
          "name": "stdout",
          "text": [
            "Test loss:  22.268272399902344\n",
            "Test accuracy:  0.11900000274181366\n"
          ]
        }
      ]
    },
    {
      "cell_type": "code",
      "source": [
        "accuracy = train.history['accuracy']\n",
        "loss = train.history['loss']\n",
        "epochs = range(len(accuracy))\n",
        "plt.plot(epochs, accuracy, 'bo', label = 'Training Accuracy')   # 'bo' la dau tron\n",
        "plt.plot(epochs, loss, 'b', label = 'Training Accuracy')\n",
        "plt.title('Training & Testing Accuracy')\n",
        "plt.legend() \n",
        "plt.show()"
      ],
      "metadata": {
        "colab": {
          "base_uri": "https://localhost:8080/",
          "height": 452
        },
        "id": "ZwC5VwK2azL-",
        "outputId": "e4e02ee5-be24-408e-d407-964c9c0111a7"
      },
      "execution_count": null,
      "outputs": [
        {
          "output_type": "display_data",
          "data": {
            "text/plain": [
              "<Figure size 640x480 with 1 Axes>"
            ],
            "image/png": "[encoded data removed]"
          },
          "metadata": {}
        }
      ]
    },
    {
      "cell_type": "code",
      "source": [
        "accuracy = train.history['accuracy']\n",
        "loss = train.history['loss']\n",
        "epochs = range(len(accuracy))\n",
        "plt.plot(epochs, accuracy, 'bo', label = 'Training Accuracy')  \n",
        "plt.plot(epochs, loss, 'b', label = 'Test Accuracy')\n",
        "plt.title('Training & Testing Accuracy')\n",
        "plt.legend() \n",
        "plt.show()"
      ],
      "metadata": {
        "colab": {
          "base_uri": "https://localhost:8080/",
          "height": 452
        },
        "id": "kONsFw_ra-Ug",
        "outputId": "90e54684-cd67-4274-b1cd-a3efbce10eb8"
      },
      "execution_count": null,
      "outputs": [
        {
          "output_type": "display_data",
          "data": {
            "text/plain": [
              "<Figure size 640x480 with 1 Axes>"
            ],
            "image/png": "[encoded data removed]"
          },
          "metadata": {}
        }
      ]
    },
    {
      "cell_type": "code",
      "source": [
        "from keras.layers.core.activation import Activation\n",
        "model = Sequential()\n",
        "model.add(Conv2D(32,(3,3),padding='same',input_shape=(32, 32, 3)))\n",
        "model.add(Activation('relu'))\n",
        "model.add(Conv2D(32, (3, 3)))\n",
        "model.add(MaxPooling2D((2, 2)))\n",
        "model.add(Dropout(0,25)) # bỏ giá trị không cần thiết"
      ],
      "metadata": {
        "id": "pvqCT732bQTQ"
      },
      "execution_count": null,
      "outputs": []
    },
    {
      "cell_type": "code",
      "source": [
        "model.add(Conv2D(64,(3, 3),padding='same'))\n",
        "model.add(Activation('relu'))\n",
        "model.add(Conv2D(64,(3,3 )))\n",
        "model.add(Activation('relu'))\n",
        "model.add(MaxPooling2D((2, 2)))\n",
        "model.add(Dropout(0.25))"
      ],
      "metadata": {
        "id": "ukyAX0DBctx9"
      },
      "execution_count": null,
      "outputs": []
    },
    {
      "cell_type": "code",
      "source": [
        "#ANN\n",
        "model.add(Flatten())\n",
        "model.add(Dense(512,activation='relu'))\n",
        "model.add(Dropout(0.5))\n",
        "model.add(Dense(10,activation='softmax'))"
      ],
      "metadata": {
        "id": "rVadgM2iczDa"
      },
      "execution_count": null,
      "outputs": []
    },
    {
      "cell_type": "code",
      "source": [
        "from keras.optimizers import SGD\n",
        "sgd = SGD(lr = 0.1,decay = 1e-6, momentum = 0.9, nesterov = True)\n",
        "model.compile(loss='categorical_crossentropy',optimizer= sgd,metrics = ['accuracy'])"
      ],
      "metadata": {
        "id": "GwaIlCTtc12k"
      },
      "execution_count": null,
      "outputs": []
    },
    {
      "cell_type": "code",
      "source": [
        "model.save(/content/sample_data/README.md)"
      ],
      "metadata": {
        "colab": {
          "base_uri": "https://localhost:8080/",
          "height": 131
        },
        "id": "GV9GG225c4Ov",
        "outputId": "e25b330d-cfe6-47d5-e485-9aaacd65f20f"
      },
      "execution_count": null,
      "outputs": [
        {
          "output_type": "error",
          "ename": "SyntaxError",
          "evalue": "ignored",
          "traceback": [
            "\u001b[0;36m  File \u001b[0;32m\"<ipython-input-46-11ed08681106>\"\u001b[0;36m, line \u001b[0;32m1\u001b[0m\n\u001b[0;31m    model.save(/content/sample_data/README.md)\u001b[0m\n\u001b[0m               ^\u001b[0m\n\u001b[0;31mSyntaxError\u001b[0m\u001b[0;31m:\u001b[0m invalid syntax\n"
          ]
        }
      ]
    },
    {
      "cell_type": "code",
      "source": [
        "from os import listdir\n",
        "from numpy import asarray ,save\n",
        "from keras.preprocessing.image import load_img_to_array\n",
        "folder =''\n",
        "photos,labels = list(),list()\n",
        "for file in listdir():\n",
        "  output=0.0\n",
        "  if file.startwith('Tran'):\n",
        "    output=1.0\n",
        "    if file.starswith('Khoa'):\n",
        "      output2.0\n",
        "      photo=load_img(folder+file,target_size(200,200))\n",
        "      photo=img_to_array(img)\n",
        "      photos.append(photo)\n",
        "      labels.append(output)\n",
        "      photos = asarray(photos)\n",
        "      labels =asarray(labels)\n",
        "      print(photos.shape,label.shape)\n",
        "      save('     /KhoaTran_photo.npy',photos)\n",
        "      save('   /KhoaTran_label.npy',labels)"
      ],
      "metadata": {
        "colab": {
          "base_uri": "https://localhost:8080/",
          "height": 131
        },
        "id": "JbAGsxBsc7LA",
        "outputId": "64f5c628-af4f-429c-dd6b-2a6aa01dffb7"
      },
      "execution_count": null,
      "outputs": [
        {
          "output_type": "error",
          "ename": "SyntaxError",
          "evalue": "ignored",
          "traceback": [
            "\u001b[0;36m  File \u001b[0;32m\"<ipython-input-47-262875dca022>\"\u001b[0;36m, line \u001b[0;32m11\u001b[0m\n\u001b[0;31m    output2.0\u001b[0m\n\u001b[0m           ^\u001b[0m\n\u001b[0;31mSyntaxError\u001b[0m\u001b[0;31m:\u001b[0m invalid syntax\n"
          ]
        }
      ]
    },
    {
      "cell_type": "code",
      "source": [],
      "metadata": {
        "id": "iuM4-FBpGwIz"
      },
      "execution_count": null,
      "outputs": []
    }
  ]
}